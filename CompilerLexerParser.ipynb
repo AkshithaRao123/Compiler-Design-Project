{
 "cells": [
  {
   "cell_type": "code",
   "execution_count": 59,
   "id": "47bc4872-d70e-41d4-ac1a-d2691b691171",
   "metadata": {},
   "outputs": [
    {
     "name": "stdout",
     "output_type": "stream",
     "text": [
      "Requirement already satisfied: tabulate in c:\\users\\ashwin-rao\\anaconda3\\lib\\site-packages (0.9.0)\n"
     ]
    }
   ],
   "source": [
    "!pip install tabulate"
   ]
  },
  {
   "cell_type": "code",
   "execution_count": 1,
   "id": "01285c78-10f6-4c26-9eaa-ae4d47538ab7",
   "metadata": {},
   "outputs": [],
   "source": [
    "import re"
   ]
  },
  {
   "cell_type": "markdown",
   "id": "58e1707a-878f-4ef9-b3f3-36f5a629139b",
   "metadata": {},
   "source": [
    "# Defining functions"
   ]
  },
  {
   "cell_type": "code",
   "execution_count": 2,
   "id": "61a2d9c9-2214-4bb7-8398-445abe10f109",
   "metadata": {},
   "outputs": [],
   "source": [
    "def is_relop(token):\n",
    "    if re.search(\"==|>=|<=|<>|<|>\", token) is not None:\n",
    "        if token == re.search(\"==|>=|<=|<>|<|>\", token).group():\n",
    "            return 1;\n",
    "        else:\n",
    "            return 0;\n",
    "    else:\n",
    "        return 0;"
   ]
  },
  {
   "cell_type": "code",
   "execution_count": 3,
   "id": "c326d7d6-1358-4143-8a35-c35f73eb93be",
   "metadata": {},
   "outputs": [],
   "source": [
    "def is_digit(token):\n",
    "    if re.search(\"[+-]?\\d+[.]\\d+|[+-]?\\d+\", token) is not None:\n",
    "        if token == re.search(\"[+-]?\\d+[.]\\d+|[+-]?\\d+\", token).group():\n",
    "            return 1;\n",
    "        elif token == re.search(\"[+-]?\\d+[.]\\d+|[+-]?\\d+\", token).group() + ';':\n",
    "            return 1;\n",
    "        else:\n",
    "            return 0;\n",
    "    else:\n",
    "        return 0;"
   ]
  },
  {
   "cell_type": "code",
   "execution_count": 4,
   "id": "db7d7849-77e6-4f87-a1b3-23d3a4678883",
   "metadata": {},
   "outputs": [],
   "source": [
    "def is_keyword(token):\n",
    "    TYPE = 'int'\n",
    "    MAIN = \"main\"\n",
    "    BEGIN = 'begin'\n",
    "    DO = 'do'; WHILE = 'while'\n",
    "    RETURN = 'return'\n",
    "    END = 'end'\n",
    "    keywords = [TYPE, MAIN, BEGIN, DO, WHILE, RETURN, END]\n",
    "    if token in keywords:\n",
    "        if token==TYPE:\n",
    "            return 'TYPE'\n",
    "        else:\n",
    "            return 1\n",
    "    elif re.search(\"^while[(].*[)]\", token) is not None:\n",
    "        return 1\n",
    "    else:\n",
    "        return 0"
   ]
  },
  {
   "cell_type": "code",
   "execution_count": 5,
   "id": "a4227bdb-4d94-44e9-a40e-b56d213fb31a",
   "metadata": {},
   "outputs": [],
   "source": [
    "def is_identifier(token, ids, pos):\n",
    "    if re.search(\"[a-zA-Z][a-zA-Z0-9]*\", token) is not None:\n",
    "        if is_keyword(token):\n",
    "            return 0\n",
    "        if token == re.search(\"[a-zA-Z][a-zA-Z0-9]*\", token).group():\n",
    "            return 1\n",
    "        else:\n",
    "            return 0;\n",
    "    else:\n",
    "        return 0;"
   ]
  },
  {
   "cell_type": "code",
   "execution_count": 6,
   "id": "07f46327-188e-45ed-ae13-7a6182621b85",
   "metadata": {},
   "outputs": [],
   "source": [
    "def is_whitespace(token):\n",
    "    if re.search(\"\\s+\", token) is not None:\n",
    "        if token == re.search(\"\\s+\", token).group():\n",
    "            return 1;\n",
    "        else:\n",
    "            return 0;\n",
    "    else:\n",
    "        return 0;"
   ]
  },
  {
   "cell_type": "markdown",
   "id": "6e38e21c-e063-4ad2-acbf-86f5dd7bdc8f",
   "metadata": {},
   "source": [
    "# Taking input"
   ]
  },
  {
   "cell_type": "markdown",
   "id": "da9ca248-4727-406a-864f-4a4edf4f319b",
   "metadata": {},
   "source": [
    "#### Grammar\n",
    "\n",
    "S: FORMAT \\\n",
    "FORMAT: TYPE MAIN BEGIN CONTENT END \\\n",
    "TYPE: 'int' | 'float' \\\n",
    "CONTENT: TYPE id ';' DOWHILE RETURN \\\n",
    "DOWHILE: 'do' OPERATION 'while' '(' EXP ')' \\\n",
    "OPERATION: id '=' VAR '+' VAR ';' id '=' VAR ';' \\\n",
    "EXP: 'exp' | id RELOP id \\\n",
    "RETURN: 'return' '(' VAR ')' \\\n",
    "VAR: id | num"
   ]
  },
  {
   "cell_type": "code",
   "execution_count": 7,
   "id": "a76ccc77-09bb-4e16-bcf7-1794be737211",
   "metadata": {},
   "outputs": [
    {
     "name": "stdout",
     "output_type": "stream",
     "text": [
      "int main()\n",
      "begin\n",
      "int n;\n",
      "do\n",
      "    expr = expr + expr;\n",
      "    n = blahh;\n",
      "    y = mx + c;\n",
      "while(a == b)\n",
      "return(n)\n",
      "end\n"
     ]
    }
   ],
   "source": [
    "with open('code.txt', 'r') as f:\n",
    "    content = f.read()\n",
    "print(content)"
   ]
  },
  {
   "cell_type": "markdown",
   "id": "02f0ba1f-d871-466b-85ad-f4ba69ea041f",
   "metadata": {},
   "source": [
    "# Preprocessing"
   ]
  },
  {
   "cell_type": "code",
   "execution_count": 8,
   "id": "1b9c7058-ea77-4767-a377-33ec9bdd33b8",
   "metadata": {},
   "outputs": [],
   "source": [
    "code_lex = ''\n",
    "\n",
    "for i in content:\n",
    "    if i=='(':\n",
    "        code_lex += ' ( '\n",
    "    elif i==')':\n",
    "        code_lex += ' ) '\n",
    "    elif i==';':\n",
    "        code_lex += ' ;'\n",
    "    else:\n",
    "        code_lex += i"
   ]
  },
  {
   "cell_type": "code",
   "execution_count": 9,
   "id": "453ae205-c6c0-4f49-96b1-b7a4455729e4",
   "metadata": {},
   "outputs": [
    {
     "name": "stdout",
     "output_type": "stream",
     "text": [
      "int main (  ) \n",
      "begin\n",
      "int n ;\n",
      "do\n",
      "    expr = expr + expr ;\n",
      "    n = blahh ;\n",
      "    y = mx + c ;\n",
      "while ( a == b ) \n",
      "return ( n ) \n",
      "end\n"
     ]
    }
   ],
   "source": [
    "print(code_lex)"
   ]
  },
  {
   "cell_type": "code",
   "execution_count": 10,
   "id": "62bc6671-8b5f-477b-b14c-b740f689727e",
   "metadata": {},
   "outputs": [
    {
     "name": "stdout",
     "output_type": "stream",
     "text": [
      "['int', 'main', '(', ')', 'begin', 'int', 'n', ';', 'do', 'expr', '=', 'expr', '+', 'expr', ';', 'n', '=', 'blahh', ';', 'y', '=', 'mx', '+', 'c', ';', 'while', '(', 'a', '==', 'b', ')', 'return', '(', 'n', ')', 'end']\n"
     ]
    }
   ],
   "source": [
    "tokens = code_lex.split()\n",
    "print(tokens)"
   ]
  },
  {
   "cell_type": "code",
   "execution_count": 11,
   "id": "b94541ef-0d47-4474-851b-a85eb2635f6b",
   "metadata": {},
   "outputs": [],
   "source": [
    "symbol_table = []\n",
    "ids = {}"
   ]
  },
  {
   "cell_type": "code",
   "execution_count": 12,
   "id": "dbda2d84-c8fd-4a5c-947d-b95adbceff61",
   "metadata": {},
   "outputs": [
    {
     "name": "stdout",
     "output_type": "stream",
     "text": [
      "[['int', 'TYPE', ''], ['main', 'KEYWORD', ''], ['(', 'BRACKET_OPEN', ''], [')', 'BRACKET_CLOSE', ''], ['begin', 'KEYWORD', ''], ['int', 'TYPE', ''], ['n', 'IDENTIFIER', 1], [';', 'SC', ''], ['do', 'KEYWORD', ''], ['expr', 'IDENTIFIER', 2], ['=', 'ASSIGNMENT', ''], ['expr', 'IDENTIFIER', 2], ['expr', 'IDENTIFIER', 2], [';', 'SC', ''], ['n', 'IDENTIFIER', 1], ['=', 'ASSIGNMENT', ''], ['blahh', 'IDENTIFIER', 3], [';', 'SC', ''], ['y', 'IDENTIFIER', 4], ['=', 'ASSIGNMENT', ''], ['mx', 'IDENTIFIER', 5], ['c', 'IDENTIFIER', 6], [';', 'SC', ''], ['while', 'KEYWORD', ''], ['(', 'BRACKET_OPEN', ''], ['a', 'IDENTIFIER', 7], ['==', 'RELOP', ''], ['b', 'IDENTIFIER', 8], [')', 'BRACKET_CLOSE', ''], ['return', 'KEYWORD', ''], ['(', 'BRACKET_OPEN', ''], ['n', 'IDENTIFIER', 1], [')', 'BRACKET_CLOSE', ''], ['end', 'KEYWORD', '']]\n"
     ]
    }
   ],
   "source": [
    "pos = 0\n",
    "for token in tokens:\n",
    "    # token, type, location \n",
    "    if is_keyword(token)=='TYPE':\n",
    "        symbol_table.append([token,'TYPE',''])\n",
    "    elif is_keyword(token)==1:\n",
    "        symbol_table.append([token,'KEYWORD',''])\n",
    "    elif is_relop(token):\n",
    "        symbol_table.append([token,'RELOP',''])\n",
    "    elif is_identifier(token, ids, pos)!=0:\n",
    "        if token in ids.keys():\n",
    "            pass\n",
    "        else:\n",
    "            pos += 1\n",
    "            ids[token] = pos\n",
    "        symbol_table.append([token,'IDENTIFIER',ids[token]])\n",
    "    elif is_digit(token)==1:\n",
    "        symbol_table.append([token,'NUM',''])\n",
    "    elif token==';':\n",
    "        symbol_table.append([token,'SC',''])\n",
    "    elif token=='=':\n",
    "        symbol_table.append([token,'ASSIGNMENT',''])\n",
    "    elif token=='(':\n",
    "        symbol_table.append([token,'BRACKET_OPEN',''])\n",
    "    elif token==')':\n",
    "        symbol_table.append([token,'BRACKET_CLOSE',''])\n",
    "print(symbol_table)"
   ]
  },
  {
   "cell_type": "code",
   "execution_count": 13,
   "id": "2bcb002b-3916-466e-a870-dd0209ded505",
   "metadata": {},
   "outputs": [
    {
     "name": "stdout",
     "output_type": "stream",
     "text": [
      "TOKEN \t\t TYPE  \t\t     LOCATION\n",
      "---------------------------------------------\n",
      "int \t\t TYPE \t\t \n",
      "main \t\t KEYWORD \t\t \n",
      "( \t\t BRACKET_OPEN \t\t \n",
      ") \t\t BRACKET_CLOSE \t\t \n",
      "begin \t\t KEYWORD \t\t \n",
      "int \t\t TYPE \t\t \n",
      "n \t\t IDENTIFIER \t\t 1\n",
      "; \t\t SC \t\t \n",
      "do \t\t KEYWORD \t\t \n",
      "expr \t\t IDENTIFIER \t\t 2\n",
      "= \t\t ASSIGNMENT \t\t \n",
      "expr \t\t IDENTIFIER \t\t 2\n",
      "expr \t\t IDENTIFIER \t\t 2\n",
      "; \t\t SC \t\t \n",
      "n \t\t IDENTIFIER \t\t 1\n",
      "= \t\t ASSIGNMENT \t\t \n",
      "blahh \t\t IDENTIFIER \t\t 3\n",
      "; \t\t SC \t\t \n",
      "y \t\t IDENTIFIER \t\t 4\n",
      "= \t\t ASSIGNMENT \t\t \n",
      "mx \t\t IDENTIFIER \t\t 5\n",
      "c \t\t IDENTIFIER \t\t 6\n",
      "; \t\t SC \t\t \n",
      "while \t\t KEYWORD \t\t \n",
      "( \t\t BRACKET_OPEN \t\t \n",
      "a \t\t IDENTIFIER \t\t 7\n",
      "== \t\t RELOP \t\t \n",
      "b \t\t IDENTIFIER \t\t 8\n",
      ") \t\t BRACKET_CLOSE \t\t \n",
      "return \t\t KEYWORD \t\t \n",
      "( \t\t BRACKET_OPEN \t\t \n",
      "n \t\t IDENTIFIER \t\t 1\n",
      ") \t\t BRACKET_CLOSE \t\t \n",
      "end \t\t KEYWORD \t\t \n"
     ]
    }
   ],
   "source": [
    "print(\"TOKEN \\t\\t TYPE  \\t\\t     LOCATION\")\n",
    "print(\"---------------------------------------------\")\n",
    "for sym in symbol_table:\n",
    "    print(sym[0], '\\t\\t', sym[1], '\\t\\t', sym[2])"
   ]
  },
  {
   "cell_type": "code",
   "execution_count": 14,
   "id": "bba70ad0-3f37-4397-8ffa-db9b119c93d3",
   "metadata": {},
   "outputs": [],
   "source": [
    "# Rules\n",
    "rules = {\n",
    "'r0' : \"S: FORMAT\",\n",
    "'r1' : \"FORMAT: TYPE main ( ) begin CONTENT end\",\n",
    "'r2' : \"TYPE: int\",\n",
    "'r3' : \"TYPE: float\",\n",
    "'r4' : \"CONTENT: TYPE id ; DOWHILE RETURN\",\n",
    "'r5' : \"DOWHILE: do OPERATION while ( EXP )\",\n",
    "'r6' : \"OPERATION: id = VAR + VAR ; id = VAR ;\",\n",
    "'r7' : \"EXP: exp\",\n",
    "'r8' : \"EXP: id relop id\",\n",
    "'r9' : \"RETURN: return ( VAR )\",\n",
    "'r10' : \"VAR: id\",\n",
    "'r11' : \"VAR: num\",\n",
    "}"
   ]
  },
  {
   "cell_type": "code",
   "execution_count": 15,
   "id": "bb898b14-badc-41e0-9f00-a15f8f5406e0",
   "metadata": {},
   "outputs": [],
   "source": [
    "non_terminals = ['TYPE', 'CONTENT', 'DOWHILE', 'RETURN', 'OPERATION',\n",
    "                'EXP', 'VAR', 'FORMAT']\n",
    "terminals = ['id', 'num', ';', '(', ')', '=', '+', 'while', 'return', 'exp', 'relop']"
   ]
  },
  {
   "cell_type": "code",
   "execution_count": 16,
   "id": "23b149da-4420-4089-bbe3-3d936273ff8c",
   "metadata": {},
   "outputs": [],
   "source": [
    "augmented_grammar = {\n",
    "    'S': ['. FORMAT'],\n",
    "    'FORMAT': [\". TYPE main ( ) begin CONTENT end\"],\n",
    "    'TYPE': ['. int', '. float'],\n",
    "    'CONTENT': [\". TYPE id ; DOWHILE RETURN\"],\n",
    "    'DOWHILE': [\". do OPERATION while ( EXP )\"],\n",
    "    'OPERATION': [\". id = VAR + VAR ;\", \". id = VAR ;\"],\n",
    "    'EXP': ['. exp', '. id relop id'],\n",
    "    'RETURN': ['. return ( VAR )'],\n",
    "    'VAR': ['. id', '. num']\n",
    "}"
   ]
  },
  {
   "cell_type": "code",
   "execution_count": 17,
   "id": "898d1d78-1e50-464d-a2b8-9b06a4d475a9",
   "metadata": {},
   "outputs": [],
   "source": [
    "parse_table = []"
   ]
  },
  {
   "cell_type": "code",
   "execution_count": 18,
   "id": "33869e11-e1c4-4560-bbff-69d143b35215",
   "metadata": {},
   "outputs": [],
   "source": [
    "def find_closure(rule):\n",
    "  closure = []\n",
    "  closure.append(rule)\n",
    "\n",
    "  flag = True\n",
    "  while(flag):\n",
    "    flag = False\n",
    "\n",
    "    for item in closure:\n",
    "      if item.split(': ')[1].find('.') != -1:\n",
    "        prod = item.split(': ')[1]\n",
    "        dot_pos = prod.find('.')\n",
    "        if re.search(r\"[.] [a-zA-Z_();]+\", prod) is not None:\n",
    "            sym_after_dot = re.search(r\"[.] [a-zA-Z_();]+\", prod).group()[2:]\n",
    "        else:\n",
    "            return closure\n",
    "\n",
    "        if sym_after_dot in non_terminals:\n",
    "          rule = sym_after_dot\n",
    "\n",
    "          if rule in augmented_grammar.keys():\n",
    "            for i in augmented_grammar[rule]:\n",
    "              new_rule = rule + ': ' + i\n",
    "\n",
    "              if new_rule not in closure:\n",
    "                closure.append(new_rule)\n",
    "                flag = True\n",
    "  return closure"
   ]
  },
  {
   "cell_type": "code",
   "execution_count": 19,
   "id": "6f124866-8985-43d8-abf6-778ec5df4fbc",
   "metadata": {},
   "outputs": [
    {
     "name": "stdout",
     "output_type": "stream",
     "text": [
      "S: FORMAT .\n"
     ]
    }
   ],
   "source": [
    "closure_s = find_closure('S: FORMAT .')\n",
    "\n",
    "for i in closure_s:\n",
    "    print(i)"
   ]
  },
  {
   "cell_type": "code",
   "execution_count": 20,
   "id": "3f040e88-804c-4243-9f46-7398c1ed27a1",
   "metadata": {},
   "outputs": [
    {
     "name": "stdout",
     "output_type": "stream",
     "text": [
      "CONTENT: TYPE id ; . DOWHILE RETURN\n",
      "DOWHILE: . do OPERATION while ( EXP )\n"
     ]
    }
   ],
   "source": [
    "closure_content = find_closure('CONTENT: TYPE id ; . DOWHILE RETURN')\n",
    "\n",
    "for i in closure_content:\n",
    "    print(i)"
   ]
  },
  {
   "cell_type": "code",
   "execution_count": 21,
   "id": "bb6de96f-9932-4ac4-9a33-9469678e96d8",
   "metadata": {},
   "outputs": [
    {
     "data": {
      "text/plain": [
       "['S: FORMAT .']"
      ]
     },
     "execution_count": 21,
     "metadata": {},
     "output_type": "execute_result"
    }
   ],
   "source": [
    "closure_s"
   ]
  },
  {
   "cell_type": "code",
   "execution_count": 22,
   "id": "fcc289ef-cf6e-4de2-9b35-03ca307a9546",
   "metadata": {},
   "outputs": [],
   "source": [
    "def goto(I,X):\n",
    "    goto_list = []\n",
    "    if re.search(r\"[.] [a-zA-Z_();]+\", I[0]) is None:\n",
    "        return goto_list\n",
    "        \n",
    "    for item in I:\n",
    "        if re.search(\"[.] [a-zA-Z_();]+\", item).group() != '. '+X:\n",
    "            continue\n",
    "        # Shifting the dot\n",
    "        prod_span = re.search(\"[.] [a-zA-Z_();]+\", item).span()\n",
    "        item = re.sub(' [.] ', ' ', item)\n",
    "        newprod = item[:prod_span[1]-2] + ' . ' + item[prod_span[1]-1:]\n",
    "        if (newprod[-1]=='.') or (newprod[-2:]=='. '):\n",
    "            closure_items = find_closure(newprod)\n",
    "            for i in closure_items:\n",
    "                goto_list.append(i)\n",
    "            return goto_list\n",
    "    closure_items = find_closure(newprod)\n",
    "    for i in closure_items:\n",
    "        goto_list.append(i)\n",
    "    return goto_list"
   ]
  },
  {
   "cell_type": "code",
   "execution_count": 23,
   "id": "f0077337-9ea9-42f1-8c5c-52e367e8597f",
   "metadata": {},
   "outputs": [],
   "source": [
    "action = {}\n",
    "\n",
    "def items():\n",
    "    C = []\n",
    "    C.append(find_closure('S: . FORMAT'))\n",
    "    k = 0\n",
    "    \n",
    "    flag = True\n",
    "    while flag:\n",
    "        flag = False\n",
    "\n",
    "        for I in C:\n",
    "            for item in I:\n",
    "                production = item.split(': ')[1]\n",
    "                head = item.split(': ')[0]\n",
    "                if re.search(r\"[.] [a-zA-Z_();]+\", production) is not None:\n",
    "                    X = re.search(r\"[.] [a-zA-Z_();]+\", production).group()[2:]\n",
    "                    gotovals = goto(I,X)\n",
    "                    if len(goto(I,X))!=0 and gotovals not in C:\n",
    "                        k += 1\n",
    "                        C.append(goto(I,X))\n",
    "                        if X in terminals:\n",
    "                            lst = ['S']\n",
    "                            lst.append(k)\n",
    "                            action[C.index(I)] = {f'{X}': lst}\n",
    "                        if X in non_terminals:\n",
    "                            lst = ['']\n",
    "                            lst.append(k)\n",
    "                            action[C.index(I)] = {f'{X}': lst}\n",
    "                        flag = True\n",
    "    return C, action"
   ]
  },
  {
   "cell_type": "code",
   "execution_count": 24,
   "id": "bb5d0a9c-4d26-4936-981e-4178a040e9ba",
   "metadata": {},
   "outputs": [],
   "source": [
    "C, action = items()"
   ]
  },
  {
   "cell_type": "code",
   "execution_count": 25,
   "id": "710d2308-7ba6-4a3d-8dc2-93e9cdd14290",
   "metadata": {},
   "outputs": [
    {
     "data": {
      "text/plain": [
       "{0: {'TYPE': ['', 2]},\n",
       " 5: {'(': ['S', 6]},\n",
       " 6: {')': ['S', 7]},\n",
       " 8: {'TYPE': ['', 10]},\n",
       " 10: {'id': ['S', 12]},\n",
       " 12: {';': ['S', 13]},\n",
       " 13: {'DOWHILE': ['', 14]},\n",
       " 14: {'return': ['S', 17]},\n",
       " 15: {'id': ['S', 19]},\n",
       " 17: {'(': ['S', 20]},\n",
       " 18: {'while': ['S', 21]},\n",
       " 20: {'num': ['S', 24]},\n",
       " 21: {'(': ['S', 25]},\n",
       " 22: {')': ['S', 26]},\n",
       " 25: {'id': ['S', 29]},\n",
       " 27: {')': ['S', 30]},\n",
       " 29: {'relop': ['S', 31]},\n",
       " 31: {'id': ['S', 32]}}"
      ]
     },
     "execution_count": 25,
     "metadata": {},
     "output_type": "execute_result"
    }
   ],
   "source": [
    "action"
   ]
  },
  {
   "cell_type": "code",
   "execution_count": 26,
   "id": "e01c95c2-0997-4327-ba8b-a04c8f8bd1f3",
   "metadata": {},
   "outputs": [
    {
     "data": {
      "text/plain": [
       "[['S: . FORMAT',\n",
       "  'FORMAT: . TYPE main ( ) begin CONTENT end',\n",
       "  'TYPE: . int',\n",
       "  'TYPE: . float'],\n",
       " ['S: FORMAT . '],\n",
       " ['FORMAT: TYPE . main ( ) begin CONTENT end'],\n",
       " ['TYPE: int . '],\n",
       " ['TYPE: float . '],\n",
       " ['FORMAT: TYPE main . ( ) begin CONTENT end'],\n",
       " ['FORMAT: TYPE main ( . ) begin CONTENT end'],\n",
       " ['FORMAT: TYPE main ( ) . begin CONTENT end'],\n",
       " ['FORMAT: TYPE main ( ) begin . CONTENT end',\n",
       "  'CONTENT: . TYPE id ; DOWHILE RETURN',\n",
       "  'TYPE: . int',\n",
       "  'TYPE: . float'],\n",
       " ['FORMAT: TYPE main ( ) begin CONTENT . end'],\n",
       " ['CONTENT: TYPE . id ; DOWHILE RETURN'],\n",
       " ['FORMAT: TYPE main ( ) begin CONTENT end . '],\n",
       " ['CONTENT: TYPE id . ; DOWHILE RETURN'],\n",
       " ['CONTENT: TYPE id ; . DOWHILE RETURN',\n",
       "  'DOWHILE: . do OPERATION while ( EXP )'],\n",
       " ['CONTENT: TYPE id ; DOWHILE . RETURN', 'RETURN: . return ( VAR )'],\n",
       " ['DOWHILE: do . OPERATION while ( EXP )',\n",
       "  'OPERATION: . id = VAR + VAR ;',\n",
       "  'OPERATION: . id = VAR ;'],\n",
       " ['CONTENT: TYPE id ; DOWHILE RETURN . '],\n",
       " ['RETURN: return . ( VAR )'],\n",
       " ['DOWHILE: do OPERATION . while ( EXP )'],\n",
       " ['OPERATION: id . = VAR ;'],\n",
       " ['RETURN: return ( . VAR )', 'VAR: . id', 'VAR: . num'],\n",
       " ['DOWHILE: do OPERATION while . ( EXP )'],\n",
       " ['RETURN: return ( VAR . )'],\n",
       " ['VAR: id . '],\n",
       " ['VAR: num . '],\n",
       " ['DOWHILE: do OPERATION while ( . EXP )', 'EXP: . exp', 'EXP: . id relop id'],\n",
       " ['RETURN: return ( VAR ) . '],\n",
       " ['DOWHILE: do OPERATION while ( EXP . )'],\n",
       " ['EXP: exp . '],\n",
       " ['EXP: id . relop id'],\n",
       " ['DOWHILE: do OPERATION while ( EXP ) . '],\n",
       " ['EXP: id relop . id'],\n",
       " ['EXP: id relop id . ']]"
      ]
     },
     "execution_count": 26,
     "metadata": {},
     "output_type": "execute_result"
    }
   ],
   "source": [
    "C"
   ]
  },
  {
   "cell_type": "code",
   "execution_count": 27,
   "id": "af9fac52-3122-4d58-968b-fa81728ad76a",
   "metadata": {},
   "outputs": [],
   "source": [
    "augmented_grammar = {\n",
    "    'S': ['. FORMAT'],\n",
    "    'FORMAT': [\". TYPE main ( ) begin CONTENT end\"],\n",
    "    'TYPE': ['. int', '. float'],\n",
    "    'CONTENT': [\". TYPE id ; DOWHILE RETURN\"],\n",
    "    'DOWHILE': [\". do OPERATION while ( EXP )\"],\n",
    "    'OPERATION': [\". id = VAR + VAR ;\", \". id = VAR ;\"],\n",
    "    'EXP': ['. exp', '. id relop id'],\n",
    "    'RETURN': ['. return ( VAR )'],\n",
    "    'VAR': ['. id', '. num']\n",
    "}"
   ]
  },
  {
   "cell_type": "code",
   "execution_count": 28,
   "id": "a811c14b-aca9-467e-93bc-65bdeb189978",
   "metadata": {},
   "outputs": [],
   "source": [
    "follow = {\n",
    "    'FORMAT': ['$'],\n",
    "    'TYPE': ['main','id'],\n",
    "    'CONTENT': ['end'],\n",
    "    'DOWHILE': ['return'],\n",
    "    'OPERATION': ['while'],\n",
    "    'EXP': [')'],\n",
    "    'RETURN': ['end'],\n",
    "    'VAR': [';','=','relop','+']\n",
    "}"
   ]
  },
  {
   "cell_type": "code",
   "execution_count": 29,
   "id": "9be56480-cd03-4ff3-8767-d7ffd0c8bf9e",
   "metadata": {},
   "outputs": [
    {
     "data": {
      "text/plain": [
       "{0: {'TYPE': ['', 2]},\n",
       " 5: {'(': ['S', 6]},\n",
       " 6: {')': ['S', 7]},\n",
       " 8: {'TYPE': ['', 10]},\n",
       " 10: {'id': ['S', 12]},\n",
       " 12: {';': ['S', 13]},\n",
       " 13: {'DOWHILE': ['', 14]},\n",
       " 14: {'return': ['S', 17]},\n",
       " 15: {'id': ['S', 19]},\n",
       " 17: {'(': ['S', 20]},\n",
       " 18: {'while': ['S', 21]},\n",
       " 20: {'num': ['S', 24]},\n",
       " 21: {'(': ['S', 25]},\n",
       " 22: {')': ['S', 26]},\n",
       " 25: {'id': ['S', 29]},\n",
       " 27: {')': ['S', 30]},\n",
       " 29: {'relop': ['S', 31]},\n",
       " 31: {'id': ['S', 32]}}"
      ]
     },
     "execution_count": 29,
     "metadata": {},
     "output_type": "execute_result"
    }
   ],
   "source": [
    "action"
   ]
  },
  {
   "cell_type": "code",
   "execution_count": 30,
   "id": "d19f90ca-d46f-4304-bb63-796b888e8d26",
   "metadata": {
    "scrolled": true
   },
   "outputs": [
    {
     "name": "stdout",
     "output_type": "stream",
     "text": [
      "['S: . FORMAT', 'FORMAT: . TYPE main ( ) begin CONTENT end', 'TYPE: . int', 'TYPE: . float'] 0\n",
      "['S: . FORMAT', 'FORMAT: . TYPE main ( ) begin CONTENT end', 'TYPE: . int', 'TYPE: . float'] 0\n",
      "['S: . FORMAT', 'FORMAT: . TYPE main ( ) begin CONTENT end', 'TYPE: . int', 'TYPE: . float'] 0\n",
      "['S: . FORMAT', 'FORMAT: . TYPE main ( ) begin CONTENT end', 'TYPE: . int', 'TYPE: . float'] 0\n",
      "['S: FORMAT . '] 1\n",
      "['FORMAT: TYPE . main ( ) begin CONTENT end'] 2\n",
      "['TYPE: int . '] 3\n",
      "3 main\n",
      "3 id\n",
      "['TYPE: float . '] 4\n",
      "4 main\n",
      "4 id\n",
      "['FORMAT: TYPE main . ( ) begin CONTENT end'] 5\n",
      "['FORMAT: TYPE main ( . ) begin CONTENT end'] 6\n",
      "['FORMAT: TYPE main ( ) . begin CONTENT end'] 7\n",
      "['FORMAT: TYPE main ( ) begin . CONTENT end', 'CONTENT: . TYPE id ; DOWHILE RETURN', 'TYPE: . int', 'TYPE: . float'] 8\n",
      "['FORMAT: TYPE main ( ) begin . CONTENT end', 'CONTENT: . TYPE id ; DOWHILE RETURN', 'TYPE: . int', 'TYPE: . float'] 8\n",
      "['FORMAT: TYPE main ( ) begin . CONTENT end', 'CONTENT: . TYPE id ; DOWHILE RETURN', 'TYPE: . int', 'TYPE: . float'] 8\n",
      "['FORMAT: TYPE main ( ) begin . CONTENT end', 'CONTENT: . TYPE id ; DOWHILE RETURN', 'TYPE: . int', 'TYPE: . float'] 8\n",
      "['FORMAT: TYPE main ( ) begin CONTENT . end'] 9\n",
      "['CONTENT: TYPE . id ; DOWHILE RETURN'] 10\n",
      "['FORMAT: TYPE main ( ) begin CONTENT end . '] 11\n",
      "11 $\n",
      "['CONTENT: TYPE id . ; DOWHILE RETURN'] 12\n",
      "['CONTENT: TYPE id ; . DOWHILE RETURN', 'DOWHILE: . do OPERATION while ( EXP )'] 13\n",
      "['CONTENT: TYPE id ; . DOWHILE RETURN', 'DOWHILE: . do OPERATION while ( EXP )'] 13\n",
      "['CONTENT: TYPE id ; DOWHILE . RETURN', 'RETURN: . return ( VAR )'] 14\n",
      "['CONTENT: TYPE id ; DOWHILE . RETURN', 'RETURN: . return ( VAR )'] 14\n",
      "['DOWHILE: do . OPERATION while ( EXP )', 'OPERATION: . id = VAR + VAR ;', 'OPERATION: . id = VAR ;'] 15\n",
      "['DOWHILE: do . OPERATION while ( EXP )', 'OPERATION: . id = VAR + VAR ;', 'OPERATION: . id = VAR ;'] 15\n",
      "['DOWHILE: do . OPERATION while ( EXP )', 'OPERATION: . id = VAR + VAR ;', 'OPERATION: . id = VAR ;'] 15\n",
      "['CONTENT: TYPE id ; DOWHILE RETURN . '] 16\n",
      "16 end\n",
      "['RETURN: return . ( VAR )'] 17\n",
      "['DOWHILE: do OPERATION . while ( EXP )'] 18\n",
      "['OPERATION: id . = VAR ;'] 19\n",
      "['RETURN: return ( . VAR )', 'VAR: . id', 'VAR: . num'] 20\n",
      "['RETURN: return ( . VAR )', 'VAR: . id', 'VAR: . num'] 20\n",
      "['RETURN: return ( . VAR )', 'VAR: . id', 'VAR: . num'] 20\n",
      "['DOWHILE: do OPERATION while . ( EXP )'] 21\n",
      "['RETURN: return ( VAR . )'] 22\n",
      "['VAR: id . '] 23\n",
      "23 ;\n",
      "23 =\n",
      "23 relop\n",
      "23 +\n",
      "['VAR: num . '] 24\n",
      "24 ;\n",
      "24 =\n",
      "24 relop\n",
      "24 +\n",
      "['DOWHILE: do OPERATION while ( . EXP )', 'EXP: . exp', 'EXP: . id relop id'] 25\n",
      "['DOWHILE: do OPERATION while ( . EXP )', 'EXP: . exp', 'EXP: . id relop id'] 25\n",
      "['DOWHILE: do OPERATION while ( . EXP )', 'EXP: . exp', 'EXP: . id relop id'] 25\n",
      "['RETURN: return ( VAR ) . '] 26\n",
      "26 end\n",
      "['DOWHILE: do OPERATION while ( EXP . )'] 27\n",
      "['EXP: exp . '] 28\n",
      "28 )\n",
      "['EXP: id . relop id'] 29\n",
      "['DOWHILE: do OPERATION while ( EXP ) . '] 30\n",
      "30 return\n",
      "['EXP: id relop . id'] 31\n",
      "['EXP: id relop id . '] 32\n",
      "32 )\n"
     ]
    }
   ],
   "source": [
    "for c in C:\n",
    "    for item in c:\n",
    "        print(c, C.index(c))\n",
    "        if item.find('. ') - len(item) == -2:\n",
    "            if item == 'S: FORMAT . ':\n",
    "                try:\n",
    "                    action[C.index(c)]['$'] = 'acc'\n",
    "                except:\n",
    "                    action[C.index(c)] = {}\n",
    "                    action[C.index(c)]['$'] = 'acc'\n",
    "                # print(action)\n",
    "            else:\n",
    "                prod = item.split(': ')[0]\n",
    "                for f in follow[prod]:\n",
    "                    org_prod = prod + \": \" + item.split(': ')[1][:-2]\n",
    "                    # print(org_prod)\n",
    "                    try:\n",
    "                        print(C.index(c),f)\n",
    "                        action[int(C.index(c))][f] = ['R']\n",
    "                        action[int(C.index(c))][f].append(key[1:])\n",
    "                        # print(f)\n",
    "                    except KeyError:\n",
    "                        action[C.index(c)] = {}\n",
    "                        action[int(C.index(c))][f] = ['R']\n",
    "                        for key, val in rules.items():\n",
    "                            # print(key, val,org_prod)\n",
    "                            if val == org_prod:\n",
    "                                action[int(C.index(c))][f].append(key[1:])\n",
    "                        # action[C.index(c)][f] = []\n",
    "                    "
   ]
  },
  {
   "cell_type": "code",
   "execution_count": 31,
   "id": "39919835-6edd-4dbf-b7cd-8501418b73c1",
   "metadata": {},
   "outputs": [
    {
     "data": {
      "text/plain": [
       "{0: {'TYPE': ['', 2]},\n",
       " 5: {'(': ['S', 6]},\n",
       " 6: {')': ['S', 7]},\n",
       " 8: {'TYPE': ['', 10]},\n",
       " 10: {'id': ['S', 12]},\n",
       " 12: {';': ['S', 13]},\n",
       " 13: {'DOWHILE': ['', 14]},\n",
       " 14: {'return': ['S', 17]},\n",
       " 15: {'id': ['S', 19]},\n",
       " 17: {'(': ['S', 20]},\n",
       " 18: {'while': ['S', 21]},\n",
       " 20: {'num': ['S', 24]},\n",
       " 21: {'(': ['S', 25]},\n",
       " 22: {')': ['S', 26]},\n",
       " 25: {'id': ['S', 29]},\n",
       " 27: {')': ['S', 30]},\n",
       " 29: {'relop': ['S', 31]},\n",
       " 31: {'id': ['S', 32]},\n",
       " 1: {'$': 'acc'},\n",
       " 3: {'main': ['R'], 'id': ['R', '11']},\n",
       " 4: {'main': ['R'], 'id': ['R', '11']},\n",
       " 11: {'$': ['R']},\n",
       " 16: {'end': ['R']},\n",
       " 23: {';': ['R'], '=': ['R', '11'], 'relop': ['R', '11'], '+': ['R', '11']},\n",
       " 24: {';': ['R'], '=': ['R', '11'], 'relop': ['R', '11'], '+': ['R', '11']},\n",
       " 26: {'end': ['R']},\n",
       " 28: {')': ['R']},\n",
       " 30: {'return': ['R']},\n",
       " 32: {')': ['R']}}"
      ]
     },
     "execution_count": 31,
     "metadata": {},
     "output_type": "execute_result"
    }
   ],
   "source": [
    "action"
   ]
  },
  {
   "cell_type": "code",
   "execution_count": null,
   "id": "8229e0cc-0d7c-47d8-804a-a8d003014d8d",
   "metadata": {},
   "outputs": [],
   "source": []
  },
  {
   "cell_type": "code",
   "execution_count": 58,
   "id": "4d4b269c-7a0e-484a-8a49-f9146359936c",
   "metadata": {
    "scrolled": true
   },
   "outputs": [
    {
     "name": "stdout",
     "output_type": "stream",
     "text": [
      "\t\t\t\t\tACTION\t\t\t\t\t\t\t\tGOTO\n",
      "State id   num   ;   (   )   =   +   while   return   exp   relop   $ TYPE CONTENT DOWHILE RETURN OPERATION EXP VAR FORMAT \n",
      "---------------------------------------------------------------------------------------------------------------------------------------------\n",
      "0                                           \n",
      "\n",
      "1                ac                           \n",
      "\n",
      "2                                           \n",
      "\n",
      "3     R11                                        \n",
      "\n",
      "4     R11                                        \n",
      "\n",
      "5                                           \n",
      "\n",
      "6                                           \n",
      "\n",
      "7                                           \n",
      "\n",
      "8                                           \n",
      "\n",
      "9                                           \n",
      "\n",
      "10                                           \n",
      "\n",
      "11                                           \n",
      "\n",
      "12                                           \n",
      "\n",
      "13                                           \n",
      "\n",
      "14                                           \n",
      "\n",
      "15                                           \n",
      "\n",
      "16                                           \n",
      "\n",
      "17                                           \n",
      "\n",
      "18                                           \n",
      "\n",
      "19                                           \n",
      "\n",
      "20                                           \n",
      "\n",
      "21                                           \n",
      "\n",
      "22                                           \n",
      "\n",
      "23          R11   R11      R11                              \n",
      "\n",
      "24          R11   R11      R11                              \n",
      "\n",
      "25                                           \n",
      "\n",
      "26                                           \n",
      "\n",
      "27                                           \n",
      "\n",
      "28                                           \n",
      "\n"
     ]
    }
   ],
   "source": [
    "print(\"\\t\\t\\t\\t\\tACTION\\t\\t\\t\\t\\t\\t\\t\\tGOTO\")\n",
    "print('State', end=' ')\n",
    "for t in terminals:\n",
    "    print(t, end = '   ')\n",
    "print('$', end=' ')\n",
    "for t in non_terminals:\n",
    "    print(t, end = ' ')\n",
    "print(\"\\n---------------------------------------------------------------------------------------------------------------------------------------------\")\n",
    "for i in range(0, len(action)):\n",
    "    print(i, end = '     ')\n",
    "    for t in terminals:\n",
    "        try:\n",
    "            print(action[i][t][0]+action[i][t][1], end = '   ')\n",
    "        except:\n",
    "            print('', end = ' ')\n",
    "    try:\n",
    "        print(action[i]['$'][0]+action[i]['$'][1], end = '   ')\n",
    "    except:\n",
    "        print('', end = '   ')\n",
    "    for t in non_terminals:\n",
    "        try:\n",
    "            print(action[i][t][0]+action[i][t][1], end = '   ')\n",
    "        except:\n",
    "            print('', end = '   ')\n",
    "    print('\\n')"
   ]
  },
  {
   "cell_type": "code",
   "execution_count": 62,
   "id": "cfd836fd-edf6-4bc2-b486-8b6c27080485",
   "metadata": {},
   "outputs": [
    {
     "name": "stdout",
     "output_type": "stream",
     "text": [
      "+------+----+----+------+----+----+---------+--------+---------+------+-------+-----+-----+-----+-----+-----+---------+----------+-------+---------+------+--------+-----------+-----------+----------+-------------+-------+--------+----------+\n",
      "|      |    |    |      |    |    |         |        | State   | id   | num   | ;   | (   | )   | =   | +   | while   | return   | exp   | relop   | $    | TYPE   | CONTENT   | DOWHILE   | RETURN   | OPERATION   | EXP   | VAR    | FORMAT   |\n",
      "+======+====+====+======+====+====+=========+========+=========+======+=======+=====+=====+=====+=====+=====+=========+==========+=======+=========+======+========+===========+===========+==========+=============+=======+========+==========+\n",
      "| TYPE | (  | )  | TYPE | id | ;  | DOWHILE | return | id      | (    | while | num | (   | )   | id  | )   | relop   | id       | $     | main    | main | $      | end       | ;         | ;        | end         | )     | return | )        |\n",
      "+------+----+----+------+----+----+---------+--------+---------+------+-------+-----+-----+-----+-----+-----+---------+----------+-------+---------+------+--------+-----------+-----------+----------+-------------+-------+--------+----------+\n",
      "|      |    |    |      |    |    |         |        |         |      |       |     |     |     |     |     |         |          |       | id      | id   |        |           | =         | =        |             |       |        |          |\n",
      "+------+----+----+------+----+----+---------+--------+---------+------+-------+-----+-----+-----+-----+-----+---------+----------+-------+---------+------+--------+-----------+-----------+----------+-------------+-------+--------+----------+\n",
      "|      |    |    |      |    |    |         |        |         |      |       |     |     |     |     |     |         |          |       |         |      |        |           | relop     | relop    |             |       |        |          |\n",
      "+------+----+----+------+----+----+---------+--------+---------+------+-------+-----+-----+-----+-----+-----+---------+----------+-------+---------+------+--------+-----------+-----------+----------+-------------+-------+--------+----------+\n",
      "|      |    |    |      |    |    |         |        |         |      |       |     |     |     |     |     |         |          |       |         |      |        |           | +         | +        |             |       |        |          |\n",
      "+------+----+----+------+----+----+---------+--------+---------+------+-------+-----+-----+-----+-----+-----+---------+----------+-------+---------+------+--------+-----------+-----------+----------+-------------+-------+--------+----------+\n"
     ]
    }
   ],
   "source": [
    "from tabulate import tabulate\n",
    " \n",
    "data = action\n",
    "head = 'State id   num   ;   (   )   =   +   while   return   exp   relop   $ TYPE CONTENT DOWHILE RETURN OPERATION EXP VAR FORMAT '\n",
    "headers = head.split()\n",
    " \n",
    "table = tabulate(data, headers, tablefmt=\"grid\")\n",
    " \n",
    "print(table)"
   ]
  },
  {
   "cell_type": "code",
   "execution_count": null,
   "id": "44e631bb-1f29-427e-bbc0-b97652555784",
   "metadata": {},
   "outputs": [],
   "source": []
  }
 ],
 "metadata": {
  "kernelspec": {
   "display_name": "Python 3 (ipykernel)",
   "language": "python",
   "name": "python3"
  },
  "language_info": {
   "codemirror_mode": {
    "name": "ipython",
    "version": 3
   },
   "file_extension": ".py",
   "mimetype": "text/x-python",
   "name": "python",
   "nbconvert_exporter": "python",
   "pygments_lexer": "ipython3",
   "version": "3.11.7"
  }
 },
 "nbformat": 4,
 "nbformat_minor": 5
}
